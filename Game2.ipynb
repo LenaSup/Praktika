{
  "metadata": {
    "language_info": {
      "codemirror_mode": {
        "name": "python",
        "version": 3
      },
      "file_extension": ".py",
      "mimetype": "text/x-python",
      "name": "python",
      "nbconvert_exporter": "python",
      "pygments_lexer": "ipython3",
      "version": "3.8"
    },
    "kernelspec": {
      "name": "python",
      "display_name": "Python (Pyodide)",
      "language": "python"
    }
  },
  "nbformat_minor": 4,
  "nbformat": 4,
  "cells": [
    {
      "cell_type": "code",
      "source": "def out(pole):\n    for i in pole:\n        print(*i, '\\n', end='')\n\n\n\ndef prov(pole):\n    for i in range(3):\n        if pole[i][0] == pole[i][1] == pole[i][2] != '-':\n            return False\n        if pole[0][i] == pole[1][i] == pole[2][i] != '-':\n            return False\n    if pole[0][0] == pole[1][1] == pole[2][2] != '-':\n            return False\n    if pole[2][0] == pole[1][1] == pole[0][2] != '-':\n            return False\n    return True\n\n\npole = [['-', '-', '-'],\n        ['-', '-', '-'],\n        ['-', '-', '-']]\nv = True\nhod = 0\nzn = ['X', 'O']\nwhile v:\n    n = input(f'Введите координаты в виде: \"1 2\"\\n(числа только 1 2 3)\\nходит: {zn[hod]}\\n').split()\n    if len(n) != 2:\n        print('Накаруктный ввод даных')\n    elif not (n[0] in '123' and n[1] in '123'):\n        print('Накаруктный ввод даных')\n    elif pole[int(n[0]) - 1][int(n[1]) - 1] == '-':\n        pole[int(n[0]) - 1][int(n[1]) - 1] = zn[hod]\n        v = prov(pole)\n        out(pole)\n        hod = 0 ** hod\n    else:\n        print('клетка занята')\nhod = 0 ** hod\nprint('Победа:', zn[hod])",
      "metadata": {},
      "execution_count": null,
      "outputs": []
    }
  ]
}