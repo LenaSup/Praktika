{
  "metadata": {
    "language_info": {
      "codemirror_mode": {
        "name": "python",
        "version": 3
      },
      "file_extension": ".py",
      "mimetype": "text/x-python",
      "name": "python",
      "nbconvert_exporter": "python",
      "pygments_lexer": "ipython3",
      "version": "3.8"
    },
    "kernelspec": {
      "name": "python",
      "display_name": "Python (Pyodide)",
      "language": "python"
    }
  },
  "nbformat_minor": 4,
  "nbformat": 4,
  "cells": [
    {
      "cell_type": "code",
      "source": "import random\n\n\ndef prov(pole):\n    k = 0\n    for i in pole:\n        if 'o' in i:\n            k += 1\n    return bool(k)\n\n\ndef out(pole):\n    print('  a b c d e f g h')\n    for i in range(8):\n        print(i + 1, *pole[i], '\\n', end='')\n\n\npole = [['.' for i in range(8)] for j in range(8)]\nfor i in range(random.randint(6, 15)):\n    pole[random.randint(0, 7)][random.randint(0, 7)] = 'o'\nout(pole)\nprint('Ввoдите номер строки ли букву столбца')\nfl = True\nhod = 0\nsl = {'a': 0, 'b': 1, 'c': 2, 'd': 3, 'e': 4, 'f': 5, 'g': 6, 'h': 7}\nzn = ['1', '2']\nwhile fl:\n    a = input(f'Ход играка {zn[hod]}\\n')\n    if len(a) != 1:\n        print('Накаруктный ввод даных')\n    elif a not in 'abcdefgh12345678':\n        print('Накаруктный ввод даных')\n    else:\n        if a in sl:\n            for i in range(8):\n                pole[i][sl[a]] = '.'\n        else:\n            pole[int(a) - 1] = ['.' for i in range(8)]\n        out(pole)\n        fl = prov(pole)\n        hod = 0 ** hod\nhod = 0 ** hod\nprint('Победа играка', zn[hod])",
      "metadata": {},
      "execution_count": null,
      "outputs": []
    }
  ]
}