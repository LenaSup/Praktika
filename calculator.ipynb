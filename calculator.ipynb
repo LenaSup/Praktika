{
  "metadata": {
    "language_info": {
      "codemirror_mode": {
        "name": "python",
        "version": 3
      },
      "file_extension": ".py",
      "mimetype": "text/x-python",
      "name": "python",
      "nbconvert_exporter": "python",
      "pygments_lexer": "ipython3",
      "version": "3.8"
    },
    "kernelspec": {
      "name": "python",
      "display_name": "Python (Pyodide)",
      "language": "python"
    }
  },
  "nbformat_minor": 4,
  "nbformat": 4,
  "cells": [
    {
      "cell_type": "code",
      "source": "def calculator(s):\n    sl = {'один': 1, 'два': 2, 'три': 3, 'четыре': 4, 'пять': 5, 'шесть': 6, 'семь': 7, 'восемь': 8, 'девять': 9,\n          'десять': 10, 'одиннадцать': 11, 'двенадцать': 12, 'тринадцать': 12, 'четырнадцать': 14, 'пятнадцать': 15,\n          'шестнадцать': 16, 'семнадцать': 17, 'восемнадцать': 18, 'девятнадцать': 19, 'двадцать': 20, 'тридцать': 30,\n          'сорок': 40, 'пятьдесят': 50, 'шестьдесят': 60, 'семьдесят': 70, 'восемьдесят': 80, 'девяносто': 90}\n    s = s.split()\n    out = [0, 0]\n    k = 0\n    zn = ''\n    for i in s:\n        if i in sl:\n            out[k] += sl[i]\n        else:\n            zn = i\n            k = 1\n    if zn == 'плюс':\n        out = out[0] + out[1]\n    elif zn == 'минус':\n        out = out[0] - out[1]\n    elif zn == 'умножить':\n        out = out[0] * out[1]\n    if out > 100:\n        return 'Результат выходит за пределы допустимых значений'\n    if out in sl.values():\n        return list(sl.keys())[list(sl.values()).index(out)]\n    return (list(sl.keys())[list(sl.values()).index(out // 10 * 10)] + ' ' +\n            list(sl.keys())[list(sl.values()).index(out % 10)])\n\n\nprint(calculator('три умножить двенадцать'))",
      "metadata": {},
      "execution_count": null,
      "outputs": []
    }
  ]
}