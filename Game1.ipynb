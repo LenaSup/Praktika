{
  "metadata": {
    "language_info": {
      "name": ""
    },
    "kernelspec": {
      "name": "",
      "display_name": ""
    }
  },
  "nbformat_minor": 4,
  "nbformat": 4,
  "cells": [
    {
      "cell_type": "code",
      "source": "import random\n\n\ndef igra(n, ch):    # Считает кол-во коров и быков\n    b = 0\n    k = 0\n    for i in range(4):\n        if n[i] == ch[i]:\n            b += 1\n        elif n[i] in ch:\n            k += 1\n    return f'Быков: {b}, Каров:{k}'\n\n\nch = (str(random.choice(range(10))) + str(random.choice(range(10)))\n      + str(random.choice(range(10))) + str(random.choice(range(10))))  #  Формирует отгадываемое число\nv = True    # Контролирует завяршение игры\nwhile v:\n    n = input('Введите число из 4 цифр\\n')\n\n    try:    # Проверка что все введёные символы это числа\n        pas = int(n)    # програма пытается перевисти число в строку и если не пролучается выдаёт ошибку\n        if not len(n) != 4: # Проверка что введёное число четырёхзначное\n            print(igra(n, ch))  # подщёт каров\n            if ch == n: # Проверка отгадано ли число\n                print(f'Да. Это действительно {n}')\n                v = False\n        else:\n            print('Число должно быть четырёхзначным')\n    except ValueError:  # Обрабатывает ошибку каторая возникает если игрог ввёл символ не чыфру\n        print('Число должно состаять из цифар')\n",
      "metadata": {},
      "execution_count": null,
      "outputs": []
    }
  ]
}